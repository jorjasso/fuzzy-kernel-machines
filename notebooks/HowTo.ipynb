{
 "cells": [
  {
   "cell_type": "markdown",
   "metadata": {},
   "source": [
    "# Fuzzy-kernels library How-To"
   ]
  },
  {
   "cell_type": "markdown",
   "metadata": {},
   "source": [
    "This notebook will introduce the basic uses for the *fuzzy-kernels* library. \n",
    "\n",
    "1. [Pre-configuration](#Pre-configuration) \n",
    "2. [A first (basic) snippet](#A-first-%28basic%29-snippet) \n",
    "3. [Plotting](#Plotting) "
   ]
  },
  {
   "cell_type": "markdown",
   "metadata": {},
   "source": [
    "# Pre-configuration"
   ]
  },
  {
   "cell_type": "code",
   "execution_count": 1,
   "metadata": {},
   "outputs": [
    {
     "name": "stdout",
     "output_type": "stream",
     "text": [
      "Configuring root folder...\n",
      "Done!\n"
     ]
    }
   ],
   "source": [
    "# Change root folder to \"fuzzy-kernels\"\n",
    "print(\"Configuring root folder...\")\n",
    "import sys\n",
    "import os\n",
    "qprc_path = os.path.abspath(os.path.join('..'))\n",
    "if qprc_path not in sys.path:\n",
    "    sys.path.append(qprc_path)\n",
    "sys.path\n",
    "print(\"Done!\")"
   ]
  },
  {
   "cell_type": "markdown",
   "metadata": {},
   "source": [
    "# A first (basic) snippet"
   ]
  },
  {
   "cell_type": "markdown",
   "metadata": {},
   "source": [
    "Let's start by creating some artificial data, using numpy arrays"
   ]
  },
  {
   "cell_type": "code",
   "execution_count": 2,
   "metadata": {
    "scrolled": true
   },
   "outputs": [
    {
     "name": "stdout",
     "output_type": "stream",
     "text": [
      "[4.42850907 7.04966027 6.52886936 9.18741712 9.13264211 7.12582264\n",
      " 9.27768082 9.47622743 4.83667388 6.42282267 5.29814205 1.12893526\n",
      " 3.93918895 8.21613752 6.48548565 5.3452123  1.52584634 5.10203186\n",
      " 6.95003127 8.9627477  3.0683991  9.28312646 2.40174511 6.0738292\n",
      " 4.35273813 1.93749253 1.5980346  6.66792401 1.35718352 1.05420528\n",
      " 1.55903598 8.69199971 7.04886643 6.26200792 9.83086897 4.78053983\n",
      " 4.26501969 9.16537011 9.79884128 3.30286443 7.6909018  6.97257417\n",
      " 5.92013431 6.62384728 6.20992674 5.8144205  1.00691632 6.65709368\n",
      " 1.37905944 2.50741069 5.86932603 3.51891971 6.56858743 3.77845867\n",
      " 6.98251161 5.54287211 3.9047478  6.94679284 6.97512256 9.97466462\n",
      " 6.14209323 9.97612684 9.30575641 7.19311926 1.64273442 6.70211274\n",
      " 1.9215222  3.33336068 9.67444509 9.5553252  2.44988502 5.3276843\n",
      " 5.25095584 7.84322561 3.1897835  8.68949191 3.32140812 4.49983452\n",
      " 1.69716761 2.54509351 9.85667814 1.92922184 1.40516173 4.67777251\n",
      " 4.34908166 3.82501453 8.52105522 9.32964052 1.21497451 2.57800333\n",
      " 7.64418348 1.05758379 4.51166259 4.47615952 8.9074929  4.04968121\n",
      " 4.24265283 6.1716242  5.85253634 8.54431348]\n"
     ]
    }
   ],
   "source": [
    "import numpy as np\n",
    "from numpy.random import uniform\n",
    "\n",
    "# One hundred elements, between 1 and 10\n",
    "elements = uniform(1, 10, 100)\n",
    "\n",
    "print(elements)"
   ]
  },
  {
   "cell_type": "markdown",
   "metadata": {},
   "source": [
    "Now, let's import a membership function. In this case, we will use a Gaussian membership function, called *gaussmf*, implemented in the library."
   ]
  },
  {
   "cell_type": "code",
   "execution_count": 3,
   "metadata": {},
   "outputs": [
    {
     "name": "stdout",
     "output_type": "stream",
     "text": [
      "<class 'function'>\n"
     ]
    }
   ],
   "source": [
    "from fs.memberships import gaussmf\n",
    "\n",
    "mf = gaussmf\n",
    "\n",
    "print(type(mf))"
   ]
  },
  {
   "cell_type": "markdown",
   "metadata": {},
   "source": [
    "Observe that *mf* only receives the function signature, because their parameters could be anything. For this function in specific, we are going to need (besides the elements themselves) two more parameters: the __mean__ and the __standard deviation__ of our elements"
   ]
  },
  {
   "cell_type": "code",
   "execution_count": 4,
   "metadata": {},
   "outputs": [
    {
     "name": "stdout",
     "output_type": "stream",
     "text": [
      "mean =  5.5317008520929285\n",
      "std  =  2.6893089728785067\n"
     ]
    }
   ],
   "source": [
    "mean = np.mean(elements)\n",
    "std  = np.std(elements)\n",
    "\n",
    "print(\"mean = \", mean)\n",
    "print(\"std  = \", std)\n",
    "\n",
    "# Set params as a list\n",
    "params = [mean, std]"
   ]
  },
  {
   "cell_type": "markdown",
   "metadata": {},
   "source": [
    "With everything set, we can call the main class: the FuzzySet"
   ]
  },
  {
   "cell_type": "code",
   "execution_count": 5,
   "metadata": {},
   "outputs": [
    {
     "name": "stdout",
     "output_type": "stream",
     "text": [
      "_elements      =  [4.42850907 7.04966027 6.52886936 9.18741712 9.13264211 7.12582264\n",
      " 9.27768082 9.47622743 4.83667388 6.42282267 5.29814205 1.12893526\n",
      " 3.93918895 8.21613752 6.48548565 5.3452123  1.52584634 5.10203186\n",
      " 6.95003127 8.9627477  3.0683991  9.28312646 2.40174511 6.0738292\n",
      " 4.35273813 1.93749253 1.5980346  6.66792401 1.35718352 1.05420528\n",
      " 1.55903598 8.69199971 7.04886643 6.26200792 9.83086897 4.78053983\n",
      " 4.26501969 9.16537011 9.79884128 3.30286443 7.6909018  6.97257417\n",
      " 5.92013431 6.62384728 6.20992674 5.8144205  1.00691632 6.65709368\n",
      " 1.37905944 2.50741069 5.86932603 3.51891971 6.56858743 3.77845867\n",
      " 6.98251161 5.54287211 3.9047478  6.94679284 6.97512256 9.97466462\n",
      " 6.14209323 9.97612684 9.30575641 7.19311926 1.64273442 6.70211274\n",
      " 1.9215222  3.33336068 9.67444509 9.5553252  2.44988502 5.3276843\n",
      " 5.25095584 7.84322561 3.1897835  8.68949191 3.32140812 4.49983452\n",
      " 1.69716761 2.54509351 9.85667814 1.92922184 1.40516173 4.67777251\n",
      " 4.34908166 3.82501453 8.52105522 9.32964052 1.21497451 2.57800333\n",
      " 7.64418348 1.05758379 4.51166259 4.47615952 8.9074929  4.04968121\n",
      " 4.24265283 6.1716242  5.85253634 8.54431348]\n",
      "_elements_type =  <class 'numpy.float64'>\n",
      "_md            =  [6.36007741e-01 4.24518233e-01 6.90913962e-01 6.94729091e-03\n",
      " 8.05387323e-03 3.88704534e-01 5.41905794e-03 3.07143962e-03\n",
      " 8.35584936e-01 7.44323443e-01 9.79920419e-01 7.40690441e-04\n",
      " 3.89446732e-01 6.85924237e-02 7.13004636e-01 9.87151319e-01\n",
      " 2.56214076e-03 9.33655351e-01 4.73302010e-01 1.25584275e-02\n",
      " 1.04738555e-01 5.33740894e-03 2.61788603e-02 8.96474215e-01\n",
      " 5.96399844e-01 8.20026822e-03 3.17072778e-03 6.18752386e-01\n",
      " 1.53388320e-03 5.78720636e-04 2.82726169e-03 2.43852908e-02\n",
      " 4.24898738e-01 8.20105954e-01 1.03566435e-03 8.10738582e-01\n",
      " 5.50672699e-01 7.37510614e-03 1.14689873e-03 1.57676858e-01\n",
      " 1.76649785e-01 4.62093228e-01 9.45440958e-01 6.41768266e-01\n",
      " 8.42784432e-01 9.70715802e-01 4.93993945e-04 6.24413682e-01\n",
      " 1.64138274e-03 3.33400230e-02 9.58499119e-01 2.21697382e-01\n",
      " 6.70467078e-01 3.18863613e-01 4.57181930e-01 9.99953596e-01\n",
      " 3.73716094e-01 4.74919661e-01 4.60831976e-01 6.48954191e-04\n",
      " 8.70627783e-01 6.45825866e-04 5.00989540e-03 3.58293914e-01\n",
      " 3.61099551e-03 6.00871623e-01 7.85683575e-03 1.65794834e-01\n",
      " 1.69226463e-03 2.42974831e-03 2.92577905e-02 9.84642036e-01\n",
      " 9.71117497e-01 1.37132143e-01 1.30106744e-01 2.45293849e-02\n",
      " 1.62577862e-01 6.73061309e-01 4.22201147e-03 3.62697393e-02\n",
      " 9.53398421e-04 8.02076815e-03 1.77872413e-03 7.62505661e-01\n",
      " 5.94487944e-01 3.38545964e-01 3.60490154e-02 4.68406886e-03\n",
      " 9.79014130e-04 3.90044961e-02 1.90257092e-01 5.85265469e-04\n",
      " 6.79162944e-01 6.60805927e-01 1.44435207e-02 4.41883604e-01\n",
      " 5.39091187e-01 8.58756125e-01 9.62447476e-01 3.42255365e-02]\n",
      "_mf            =  <function gaussmf at 0x7fe376f95c80>\n",
      "_params        =  [5.5317008520929285, 2.6893089728785067]\n"
     ]
    }
   ],
   "source": [
    "from fs.fuzzyset import FuzzySet\n",
    "\n",
    "fs = FuzzySet(elements, mf=mf, params=params)\n",
    "fs.show_class()"
   ]
  },
  {
   "cell_type": "markdown",
   "metadata": {},
   "source": [
    "# Plotting"
   ]
  },
  {
   "cell_type": "markdown",
   "metadata": {},
   "source": [
    "For a better analysis on our data, we can plot our results. The library has built-in functions for this job, made with Plotly. Let's plot our previous results"
   ]
  },
  {
   "cell_type": "code",
   "execution_count": 6,
   "metadata": {},
   "outputs": [
    {
     "data": {
      "text/html": [
       "        <script type=\"text/javascript\">\n",
       "        window.PlotlyConfig = {MathJaxConfig: 'local'};\n",
       "        if (window.MathJax) {MathJax.Hub.Config({SVG: {font: \"STIX-Web\"}});}\n",
       "        if (typeof require !== 'undefined') {\n",
       "        require.undef(\"plotly\");\n",
       "        requirejs.config({\n",
       "            paths: {\n",
       "                'plotly': ['https://cdn.plot.ly/plotly-latest.min']\n",
       "            }\n",
       "        });\n",
       "        require(['plotly'], function(Plotly) {\n",
       "            window._Plotly = Plotly;\n",
       "        });\n",
       "        }\n",
       "        </script>\n",
       "        "
      ]
     },
     "metadata": {},
     "output_type": "display_data"
    }
   ],
   "source": [
    "from utils.plots import plot1D\n",
    "from plotly.offline import init_notebook_mode\n",
    "\n",
    "init_notebook_mode(connected=True)\n",
    "\n",
    "plot1D(fs)"
   ]
  }
 ],
 "metadata": {
  "kernelspec": {
   "display_name": "Python 3",
   "language": "python",
   "name": "python3"
  },
  "language_info": {
   "codemirror_mode": {
    "name": "ipython",
    "version": 3
   },
   "file_extension": ".py",
   "mimetype": "text/x-python",
   "name": "python",
   "nbconvert_exporter": "python",
   "pygments_lexer": "ipython3",
   "version": "3.6.7"
  }
 },
 "nbformat": 4,
 "nbformat_minor": 2
}
