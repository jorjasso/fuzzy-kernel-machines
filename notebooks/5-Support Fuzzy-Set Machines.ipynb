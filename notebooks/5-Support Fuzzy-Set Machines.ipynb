{
 "cells": [
  {
   "cell_type": "code",
   "execution_count": 1,
   "metadata": {},
   "outputs": [],
   "source": [
    "import sys\n",
    "import os\n",
    "qprc_path = os.path.abspath(os.path.join('..'))\n",
    "if qprc_path not in sys.path:\n",
    "    sys.path.append(qprc_path)"
   ]
  },
  {
   "cell_type": "markdown",
   "metadata": {},
   "source": [
    "# A Support Fuzzy-sets Machine, i.e., a SVM with kernel on fuzzy sets\n",
    "\n",
    "This notebook contains:\n",
    "* A data fuzzification procedure\n",
    "* kernel on fuzzy sets estimation via the cross-product kernel in fuzzy sets\n",
    "* experimental validation with a SVM"
   ]
  },
  {
   "cell_type": "markdown",
   "metadata": {},
   "source": [
    "## Iris dataset"
   ]
  },
  {
   "cell_type": "code",
   "execution_count": 3,
   "metadata": {},
   "outputs": [
    {
     "data": {
      "image/png": "[encoded data removed]",
      "text/plain": [
       "<Figure size 432x288 with 2 Axes>"
      ]
     },
     "metadata": {
      "needs_background": "light"
     },
     "output_type": "display_data"
    }
   ],
   "source": [
    "from sklearn.datasets import load_iris\n",
    "from sklearn.preprocessing import MinMaxScaler\n",
    "\n",
    "import pandas as pd\n",
    "import numpy as np\n",
    "import seaborn as sns\n",
    "from  kernelfuzzy.fuzzyset import FuzzySet\n",
    "from  kernelfuzzy.fuzzification import FuzzyData\n",
    "\n",
    "#from https://stackoverflow.com/questions/38105539/how-to-convert-a-scikit-learn-dataset-to-a-pandas-dataset/46379878#46379878\n",
    "def sklearn_to_df(sklearn_dataset):\n",
    "    df = pd.DataFrame(sklearn_dataset.data, columns=sklearn_dataset.feature_names)\n",
    "    df['target'] = pd.Series(sklearn_dataset.target)\n",
    "    return df\n",
    "\n",
    "#data to pandas dataframe\n",
    "iris_data = sklearn_to_df(load_iris())\n",
    "iris_data.head()\n",
    "\n",
    "#data fuzzification \n",
    "iris_fuzzy_data = FuzzyData(data=iris_data, target='target')\n",
    "iris_fuzzy_data.quantile_fuzzification_classification()\n",
    "\n",
    "#printing epistemic values given my the membsership degrees of the values of the dataset\n",
    "ax = sns.heatmap(iris_fuzzy_data.get_epistemic_values(), cmap=\"coolwarm\")"
   ]
  },
  {
   "cell_type": "markdown",
   "metadata": {},
   "source": [
    "## Kernel Matrices of the fuzzified version of the Iris dataset"
   ]
  },
  {
   "cell_type": "code",
   "execution_count": null,
   "metadata": {},
   "outputs": [],
   "source": [
    "#kernel gram matrix\n",
    "from sklearn.metrics.pairwise import rbf_kernel, linear_kernel\n",
    "from kernelfuzzy.kernels import cross_product_kernel, gram_matrix_cross_product_kernel\n",
    "import matplotlib.pyplot as plt\n",
    "\n",
    "kernel_bandwidth = [0.05, 0.5, 5, 50]\n",
    "\n",
    "fig, axn = plt.subplots(2, 2,figsize=(10,10))\n",
    "for i, ax in enumerate(axn.flat):\n",
    "    K = gram_matrix_cross_product_kernel(iris_fuzzy_data.get_fuzzydata(),\n",
    "                                   iris_fuzzy_data.get_fuzzydata(),\n",
    "                                   rbf_kernel,kernel_bandwidth[i],\n",
    "                                   linear_kernel,'')\n",
    "    sns.heatmap(K, ax=ax)\n",
    "fig.tight_layout()"
   ]
  },
  {
   "cell_type": "markdown",
   "metadata": {},
   "source": [
    "## A Support fuzzy-set Machine"
   ]
  },
  {
   "cell_type": "code",
   "execution_count": 10,
   "metadata": {},
   "outputs": [
    {
     "ename": "NameError",
     "evalue": "name 'iris_fuzzy_data' is not defined",
     "output_type": "error",
     "traceback": [
      "\u001b[0;31m---------------------------------------------------------------------------\u001b[0m",
      "\u001b[0;31mNameError\u001b[0m                                 Traceback (most recent call last)",
      "\u001b[0;32m<ipython-input-10-8787a13ca944>\u001b[0m in \u001b[0;36m<module>\u001b[0;34m\u001b[0m\n\u001b[1;32m      3\u001b[0m \u001b[0;32mfrom\u001b[0m \u001b[0msklearn\u001b[0m\u001b[0;34m.\u001b[0m\u001b[0mmetrics\u001b[0m \u001b[0;32mimport\u001b[0m \u001b[0maccuracy_score\u001b[0m\u001b[0;34m\u001b[0m\u001b[0;34m\u001b[0m\u001b[0m\n\u001b[1;32m      4\u001b[0m \u001b[0;34m\u001b[0m\u001b[0m\n\u001b[0;32m----> 5\u001b[0;31m \u001b[0mX\u001b[0m \u001b[0;34m=\u001b[0m \u001b[0miris_fuzzy_data\u001b[0m\u001b[0;34m.\u001b[0m\u001b[0mget_fuzzydata\u001b[0m\u001b[0;34m(\u001b[0m\u001b[0;34m)\u001b[0m\u001b[0;34m\u001b[0m\u001b[0;34m\u001b[0m\u001b[0m\n\u001b[0m\u001b[1;32m      6\u001b[0m \u001b[0my\u001b[0m \u001b[0;34m=\u001b[0m \u001b[0miris_fuzzy_data\u001b[0m\u001b[0;34m.\u001b[0m\u001b[0mget_target\u001b[0m\u001b[0;34m(\u001b[0m\u001b[0;34m)\u001b[0m\u001b[0;34m\u001b[0m\u001b[0;34m\u001b[0m\u001b[0m\n\u001b[1;32m      7\u001b[0m \u001b[0;34m\u001b[0m\u001b[0m\n",
      "\u001b[0;31mNameError\u001b[0m: name 'iris_fuzzy_data' is not defined"
     ]
    }
   ],
   "source": [
    "from sklearn.svm import SVC\n",
    "from sklearn.model_selection import train_test_split\n",
    "from sklearn.metrics import accuracy_score\n",
    "\n",
    "X = iris_fuzzy_data.get_fuzzydata()\n",
    "y = iris_fuzzy_data.get_target()\n",
    "\n",
    "from sklearn.model_selection import ShuffleSplit\n",
    "rs = ShuffleSplit(n_splits=5, test_size=.25, random_state=0)\n",
    "rs.get_n_splits(X)\n",
    "\n",
    "acc = []\n",
    "for train_index, test_index in rs.split(X):\n",
    "    #print(\"TRAIN:\", train_index, \"TEST:\", test_index)\n",
    "    X_train = X[train_index]\n",
    "    y_train = y[train_index]\n",
    "    X_test = X[test_index]\n",
    "    y_test = y[test_index]\n",
    "    \n",
    "    svc_p = SVC(kernel='precomputed')\n",
    "    \n",
    "    #training\n",
    "    K_train = gram_matrix_cross_product_kernel(X_train,\n",
    "                                               X_train,\n",
    "                                               rbf_kernel,50,\n",
    "                                               rbf_kernel,50)\n",
    "    sns.heatmap(K_train)\n",
    "    plt.show()\n",
    "    svc_p.fit(K_train,y_train)\n",
    "    \n",
    "    #testing\n",
    "    K_test = gram_matrix_cross_product_kernel(X_test,\n",
    "                                              X_train,\n",
    "                                              rbf_kernel,50,\n",
    "                                              rbf_kernel,50)\n",
    "    \n",
    "    sns.heatmap(K_test)\n",
    "    plt.show()\n",
    "\n",
    "    y_pred=svc_p.predict(K_test)\n",
    "    acc_test = accuracy_score(y_test, y_pred)\n",
    "    acc.append(acc_test)\n",
    "    print(\"Test accuracy: {}\".format(acc_test))\n",
    "    \n",
    "print(\"Results: mean: \", np.mean(acc),\" std: \", np.std(acc))"
   ]
  },
  {
   "cell_type": "code",
   "execution_count": null,
   "metadata": {},
   "outputs": [],
   "source": []
  }
 ],
 "metadata": {
  "kernelspec": {
   "display_name": "Python 3",
   "language": "python",
   "name": "python3"
  },
  "language_info": {
   "codemirror_mode": {
    "name": "ipython",
    "version": 3
   },
   "file_extension": ".py",
   "mimetype": "text/x-python",
   "name": "python",
   "nbconvert_exporter": "python",
   "pygments_lexer": "ipython3",
   "version": "3.7.3"
  }
 },
 "nbformat": 4,
 "nbformat_minor": 2
}
