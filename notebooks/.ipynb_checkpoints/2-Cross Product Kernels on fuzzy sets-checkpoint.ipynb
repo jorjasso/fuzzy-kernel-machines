{
 "cells": [
  {
   "cell_type": "code",
   "execution_count": 1,
   "metadata": {},
   "outputs": [],
   "source": [
    "import sys\n",
    "import os\n",
    "qprc_path = os.path.abspath(os.path.join('..'))\n",
    "if qprc_path not in sys.path:\n",
    "    sys.path.append(qprc_path)\n",
    "sys.path\n",
    "import numpy as np\n",
    "#library\n",
    "from  kernelfuzzy.fuzzysets import FuzzySet\n",
    "from  kernelfuzzy.memberships import gaussmf\n",
    "#from plots import plot1D"
   ]
  },
  {
   "cell_type": "markdown",
   "metadata": {},
   "source": [
    "Two fuzzy sets"
   ]
  },
  {
   "cell_type": "code",
   "execution_count": 2,
   "metadata": {},
   "outputs": [
    {
     "name": "stdout",
     "output_type": "stream",
     "text": [
      "Fuzzy set [(57.02328203401631, 4.668888748384495e-10), (99.99314171792348, 4.668888748384428e-10)]\n",
      "Fuzzy set [(17.97656581666892, 3.5017073162699997e-15), (84.54761729807842, 3.50170731627005e-15)]\n"
     ]
    }
   ],
   "source": [
    "elements=np.random.uniform(0, 100, 2)\n",
    "X = FuzzySet(elements=elements  , mf=gaussmf, params=[np.mean(elements), np.std(elements)])\n",
    "\n",
    "elements=np.random.uniform(0, 100, 2)\n",
    "Y = FuzzySet(elements= elements , mf=gaussmf, params=[np.mean(elements), np.std(elements)])\n",
    "\n",
    "#plot1D(X)\n",
    "#plot1D(Y)\n",
    "#X.show_class()\n",
    "#print('\\n')\n",
    "print(\"Fuzzy set\", X.get_pair())\n",
    "#Y.show_class()\n",
    "print(\"Fuzzy set\", Y.get_pair())"
   ]
  },
  {
   "cell_type": "code",
   "execution_count": 3,
   "metadata": {},
   "outputs": [
    {
     "name": "stdout",
     "output_type": "stream",
     "text": [
      "sklearn 2.631872027635917e-20\n",
      "mykernel 2.631872027635917e-20\n"
     ]
    }
   ],
   "source": [
    "from  kernelfuzzy.kernels import crossProductFuzzySets,cross_product_kernel, my_kernel\n",
    "from sklearn.metrics.pairwise import linear_kernel\n",
    "\n",
    "#cross product kernel with linear kernels\n",
    "print('sklearn',cross_product_kernel(X,Y,linear_kernel,'',linear_kernel,''))\n",
    "print('mykernel',cross_product_kernel(X,Y,my_kernel,'',my_kernel,''))"
   ]
  },
  {
   "cell_type": "code",
   "execution_count": 5,
   "metadata": {},
   "outputs": [
    {
     "name": "stdout",
     "output_type": "stream",
     "text": [
      "sklearn 1.0792872655480399e-29\n",
      "sklearn 2.56998273985586e-76\n",
      "sklearn 0.0\n"
     ]
    }
   ],
   "source": [
    "#cross product kernel with RBF kernel and linear kernels\n",
    "from sklearn.metrics.pairwise import rbf_kernel\n",
    "\n",
    "print('sklearn',cross_product_kernel(X,Y,rbf_kernel,0.05,linear_kernel,''))\n",
    "print('sklearn',cross_product_kernel(X,Y,rbf_kernel,0.5,linear_kernel,''))\n",
    "print('sklearn',cross_product_kernel(X,Y,rbf_kernel,5.0,linear_kernel,''))"
   ]
  },
  {
   "cell_type": "code",
   "execution_count": null,
   "metadata": {},
   "outputs": [],
   "source": []
  },
  {
   "cell_type": "code",
   "execution_count": null,
   "metadata": {},
   "outputs": [],
   "source": []
  },
  {
   "cell_type": "code",
   "execution_count": null,
   "metadata": {},
   "outputs": [],
   "source": []
  },
  {
   "cell_type": "code",
   "execution_count": null,
   "metadata": {},
   "outputs": [],
   "source": []
  },
  {
   "cell_type": "code",
   "execution_count": null,
   "metadata": {},
   "outputs": [],
   "source": []
  }
 ],
 "metadata": {
  "kernelspec": {
   "display_name": "Python 3",
   "language": "python",
   "name": "python3"
  },
  "language_info": {
   "codemirror_mode": {
    "name": "ipython",
    "version": 3
   },
   "file_extension": ".py",
   "mimetype": "text/x-python",
   "name": "python",
   "nbconvert_exporter": "python",
   "pygments_lexer": "ipython3",
   "version": "3.7.3"
  }
 },
 "nbformat": 4,
 "nbformat_minor": 2
}
