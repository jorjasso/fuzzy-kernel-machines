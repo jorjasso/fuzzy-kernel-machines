{
 "cells": [
  {
   "cell_type": "code",
   "execution_count": 1,
   "metadata": {},
   "outputs": [],
   "source": [
    "# Path\n",
    "import sys\n",
    "import os\n",
    "qprc_path = os.path.abspath(os.path.join('..'))\n",
    "if qprc_path not in sys.path:\n",
    "    sys.path.append(qprc_path)"
   ]
  },
  {
   "cell_type": "markdown",
   "metadata": {},
   "source": [
    "# Using the FuzzySet Class for defining fuzzy sets objects"
   ]
  },
  {
   "cell_type": "code",
   "execution_count": 2,
   "metadata": {},
   "outputs": [],
   "source": [
    "import numpy as np\n",
    "from kernelfuzzy.fuzzyset import FuzzySet\n",
    "from kernelfuzzy.memberships import gaussmf"
   ]
  },
  {
   "cell_type": "markdown",
   "metadata": {},
   "source": [
    "## Example 1\n",
    "\n",
    "Using elements and membership degrees"
   ]
  },
  {
   "cell_type": "code",
   "execution_count": 3,
   "metadata": {},
   "outputs": [
    {
     "name": "stdout",
     "output_type": "stream",
     "text": [
      "\n",
      "\n",
      "Fuzzy set: [('apple', 0.1), ('banana', 0.5), ('cherry', 0.1)]\n",
      "\n",
      "\n",
      "Properties:\n",
      "(_elements)      \n",
      " ['apple', 'banana', 'cherry'] \n",
      "\n",
      "(_elements_type) \n",
      " <class 'str'> \n",
      "\n",
      "(_membership_function)            \n",
      " None \n",
      "\n",
      "(_membership_degrees)            \n",
      " [0.1, 0.5, 0.1] \n",
      "\n",
      "(_membership_function_params)        \n",
      " None \n",
      "\n"
     ]
    }
   ],
   "source": [
    "elements = [\"apple\", \"banana\", \"cherry\"]\n",
    "membership_degrees = [.1, .5, .1]\n",
    "\n",
    "X = FuzzySet(elements, membership_degrees=membership_degrees)\n",
    "X.show()"
   ]
  },
  {
   "cell_type": "code",
   "execution_count": 4,
   "metadata": {},
   "outputs": [
    {
     "name": "stdout",
     "output_type": "stream",
     "text": [
      "\n",
      "\n",
      "Fuzzy set: [(array([2, 3]), 0.1), (array([4, 5]), 0.5), (array([3, 7]), 0.1)]\n",
      "\n",
      "\n",
      "Properties:\n",
      "(_elements)      \n",
      " [array([2, 3]), array([4, 5]), array([3, 7])] \n",
      "\n",
      "(_elements_type) \n",
      " <class 'numpy.ndarray'> \n",
      "\n",
      "(_membership_function)            \n",
      " None \n",
      "\n",
      "(_membership_degrees)            \n",
      " [0.1, 0.5, 0.1] \n",
      "\n",
      "(_membership_function_params)        \n",
      " None \n",
      "\n"
     ]
    }
   ],
   "source": [
    "elements = [np.array([2,3]), np.array([4,5]), np.array([3,7])]\n",
    "membership_degrees = [.1, .5, .1]\n",
    "\n",
    "X = FuzzySet(elements, membership_degrees=membership_degrees)\n",
    "X.show()"
   ]
  },
  {
   "cell_type": "code",
   "execution_count": 7,
   "metadata": {},
   "outputs": [
    {
     "name": "stdout",
     "output_type": "stream",
     "text": [
      "\n",
      "\n",
      "Fuzzy set: [([2, 3], 0.1), ([4, 5], 0.5), ([3, 7], 0.1)]\n",
      "\n",
      "\n",
      "Properties:\n",
      "(_elements)      \n",
      " [[2, 3], [4, 5], [3, 7]] \n",
      "\n",
      "(_elements_type) \n",
      " <class 'list'> \n",
      "\n",
      "(_membership_function)            \n",
      " None \n",
      "\n",
      "(_membership_degrees)            \n",
      " [0.1, 0.5, 0.1] \n",
      "\n",
      "(_membership_function_params)        \n",
      " None \n",
      "\n"
     ]
    }
   ],
   "source": [
    "elements = [[2,3], [4,5], [3,7]]\n",
    "membership_degrees = [.1, .5, .1]\n",
    "\n",
    "X = FuzzySet(elements, membership_degrees=membership_degrees)\n",
    "X.show()"
   ]
  },
  {
   "cell_type": "markdown",
   "metadata": {},
   "source": [
    "## Example 2 \n",
    "\n",
    "In this block we have a example of use of the FuzzySet class, using a membership function."
   ]
  },
  {
   "cell_type": "markdown",
   "metadata": {},
   "source": [
    "# Example 1\n",
    "\n",
    "Among the various membership functions, we are going to use the Gaussian membership function, for multivariated sets, which is implemented as:\n",
    "\n",
    "\\begin{align}\n",
    "    f(x)=e^{(-(x-\\mu)^TA(x-\\mu))}\n",
    "\\end{align}\n",
    "\n",
    "Observe that __only the function signature is used__. Their parameters are separately passed for the _FuzzySet_ class."
   ]
  },
  {
   "cell_type": "code",
   "execution_count": null,
   "metadata": {},
   "outputs": [],
   "source": [
    "elements = np.random.uniform(0, 100, 3)\n",
    "mf = gaussmf\n",
    "params_mf = [np.mean(elements), np.std(elements)]\n",
    "\n",
    "X = FuzzySet(elements, mf=mf, params=params_mf)\n",
    "X.show_class()\n",
    "\n",
    "print('\\n')\n",
    "print(\"Fuzzy set\", X.get_pair())"
   ]
  },
  {
   "cell_type": "markdown",
   "metadata": {},
   "source": [
    "# Use case: explicit membership function, with elements in $\\mathbb{R}^2$"
   ]
  },
  {
   "cell_type": "markdown",
   "metadata": {},
   "source": [
    "The _FuzzySet_ class supports the membership calculation of multi-dimensional sets. In this example, a 2-dimensional set is used."
   ]
  },
  {
   "cell_type": "code",
   "execution_count": null,
   "metadata": {},
   "outputs": [],
   "source": [
    "covar = np.array([[1, 0], [0, 1]])\n",
    "mean = np.random.uniform(0, 100, 2)\n",
    "elements = np.random.multivariate_normal(mean, covar, 10)\n",
    "\n",
    "X = FuzzySet(elements, mf=gaussmf, params=[mean, covar])\n",
    "X.show_class()\n",
    "\n",
    "print('\\n')\n",
    "print(\"Fuzzy set\", X.get_pair())"
   ]
  }
 ],
 "metadata": {
  "kernelspec": {
   "display_name": "Python 3",
   "language": "python",
   "name": "python3"
  },
  "language_info": {
   "codemirror_mode": {
    "name": "ipython",
    "version": 3
   },
   "file_extension": ".py",
   "mimetype": "text/x-python",
   "name": "python",
   "nbconvert_exporter": "python",
   "pygments_lexer": "ipython3",
   "version": "3.7.3"
  }
 },
 "nbformat": 4,
 "nbformat_minor": 2
}
