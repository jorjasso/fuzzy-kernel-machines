{
 "cells": [
  {
   "cell_type": "markdown",
   "metadata": {},
   "source": [
    "# Pre configuration"
   ]
  },
  {
   "cell_type": "code",
   "execution_count": 6,
   "metadata": {},
   "outputs": [
    {
     "name": "stdout",
     "output_type": "stream",
     "text": [
      "Configuring root folder...\n",
      "Done!\n"
     ]
    }
   ],
   "source": [
    "# Change root folder to \"fuzzy-kernels\"\n",
    "print(\"Configuring root folder...\")\n",
    "import sys\n",
    "import os\n",
    "qprc_path = os.path.abspath(os.path.join('..'))\n",
    "if qprc_path not in sys.path:\n",
    "    sys.path.append(qprc_path)\n",
    "sys.path\n",
    "print(\"Done!\")"
   ]
  },
  {
   "cell_type": "markdown",
   "metadata": {},
   "source": [
    "# A first (basic) snippet"
   ]
  },
  {
   "cell_type": "markdown",
   "metadata": {},
   "source": [
    "Let's start by creating some artificial data, using numpy arrays"
   ]
  },
  {
   "cell_type": "code",
   "execution_count": 7,
   "metadata": {
    "scrolled": true
   },
   "outputs": [
    {
     "name": "stdout",
     "output_type": "stream",
     "text": [
      "[74.14265744 97.61865366 96.58508046 91.85025039 12.81309533 89.10277368\n",
      " 27.09403762 39.50852205 98.57664875 95.08509472 42.7871425  63.761625\n",
      " 14.24727875 94.14555156 47.87079975 13.87399827 46.879827   65.95827596\n",
      " 36.34467529 40.79903371 63.91075785 33.35267938 32.01511835 54.72077006\n",
      " 64.96556401 90.11410606 66.40464683 77.54276306 46.89433257 68.22788314\n",
      " 99.06065564  3.23955949 42.6518782  67.67871072 46.91369369 20.37063704\n",
      " 29.89634608 37.5349017  19.24646046 64.06239105 65.5876349  45.30507754\n",
      " 72.33438737 32.90363397 93.62524683 59.3147216  13.53408484 44.25491833\n",
      " 28.06368077 65.56552442 61.89833487  7.35533054 97.563826   90.41175769\n",
      " 96.69515375 82.6483512  38.67459767 57.61463002 53.58198303 75.53939303\n",
      " 73.81389518 93.877035   71.99916698 21.8082425  36.65246711 57.4282411\n",
      " 35.02382533  8.98529223  8.35253626 97.99949301  6.60733329 16.11047364\n",
      " 44.45797448 88.17787774 36.50726219 88.148533   10.35533346 39.02080556\n",
      " 87.00027302 55.72534777 50.32715168 10.23296208 40.277063   76.78985026\n",
      " 58.18693465 93.22483804 28.74852821 17.82582243 64.56449623 71.2398633\n",
      " 80.76106937  1.10510361 88.18706472 46.64044164  1.31772804 75.36852723\n",
      " 51.37332307 79.87058352 33.15674202 46.82650201]\n"
     ]
    }
   ],
   "source": [
    "import numpy as np\n",
    "from numpy.random import uniform\n",
    "\n",
    "# One hundred elements, between 1 and 100\n",
    "elements = uniform(1, 100, 100)\n",
    "\n",
    "print(elements)"
   ]
  },
  {
   "cell_type": "markdown",
   "metadata": {},
   "source": [
    "Now, let's import a membership function example, implemented in the library. In this case, we will use a Gaussian membership function, called *gaussmf*"
   ]
  },
  {
   "cell_type": "code",
   "execution_count": 9,
   "metadata": {},
   "outputs": [
    {
     "name": "stdout",
     "output_type": "stream",
     "text": [
      "<class 'function'>\n"
     ]
    }
   ],
   "source": [
    "from fs.memberships import gaussmf\n",
    "\n",
    "mf = gaussmf\n",
    "\n",
    "print(type(mf))"
   ]
  },
  {
   "cell_type": "markdown",
   "metadata": {},
   "source": [
    "Observe that *mf* only receives the function signature, because their parameters could be anything. For this function in specific, we are going to need (besides the elements themselves) two more parameters: the __mean__ and the __standard deviation__ of our elements"
   ]
  },
  {
   "cell_type": "code",
   "execution_count": 12,
   "metadata": {},
   "outputs": [
    {
     "name": "stdout",
     "output_type": "stream",
     "text": [
      "mean =  53.94397149606327\n",
      "std  =  28.251005235505193\n"
     ]
    }
   ],
   "source": [
    "mean = np.mean(elements)\n",
    "std  = np.std(elements)\n",
    "\n",
    "print(\"mean = \", mean)\n",
    "print(\"std  = \", std)\n",
    "\n",
    "params = [mean, std]"
   ]
  },
  {
   "cell_type": "markdown",
   "metadata": {},
   "source": [
    "With everything set, we can call the main class: the FuzzySet"
   ]
  },
  {
   "cell_type": "code",
   "execution_count": 13,
   "metadata": {},
   "outputs": [
    {
     "name": "stdout",
     "output_type": "stream",
     "text": [
      "_elements      =  [74.14265744 97.61865366 96.58508046 91.85025039 12.81309533 89.10277368\n",
      " 27.09403762 39.50852205 98.57664875 95.08509472 42.7871425  63.761625\n",
      " 14.24727875 94.14555156 47.87079975 13.87399827 46.879827   65.95827596\n",
      " 36.34467529 40.79903371 63.91075785 33.35267938 32.01511835 54.72077006\n",
      " 64.96556401 90.11410606 66.40464683 77.54276306 46.89433257 68.22788314\n",
      " 99.06065564  3.23955949 42.6518782  67.67871072 46.91369369 20.37063704\n",
      " 29.89634608 37.5349017  19.24646046 64.06239105 65.5876349  45.30507754\n",
      " 72.33438737 32.90363397 93.62524683 59.3147216  13.53408484 44.25491833\n",
      " 28.06368077 65.56552442 61.89833487  7.35533054 97.563826   90.41175769\n",
      " 96.69515375 82.6483512  38.67459767 57.61463002 53.58198303 75.53939303\n",
      " 73.81389518 93.877035   71.99916698 21.8082425  36.65246711 57.4282411\n",
      " 35.02382533  8.98529223  8.35253626 97.99949301  6.60733329 16.11047364\n",
      " 44.45797448 88.17787774 36.50726219 88.148533   10.35533346 39.02080556\n",
      " 87.00027302 55.72534777 50.32715168 10.23296208 40.277063   76.78985026\n",
      " 58.18693465 93.22483804 28.74852821 17.82582243 64.56449623 71.2398633\n",
      " 80.76106937  1.10510361 88.18706472 46.64044164  1.31772804 75.36852723\n",
      " 51.37332307 79.87058352 33.15674202 46.82650201]\n",
      "_elements_type =  <class 'numpy.float64'>\n",
      "_md            =  [5.34731669e-07 4.75223535e-30 1.11777402e-28 8.15023245e-23\n",
      " 9.84544494e-27 9.93478428e-20 8.27032915e-12 6.26038546e-04\n",
      " 2.37901535e-31 9.55598474e-27 1.22035058e-02 3.29823159e-02\n",
      " 5.96023998e-25 1.42933634e-25 2.71020407e-01 2.07747649e-25\n",
      " 1.70949944e-01 6.04017052e-03 1.73193063e-05 2.20677981e-03\n",
      " 2.97114480e-02 3.03355056e-07 4.05186265e-08 9.78867391e-01\n",
      " 1.35703943e-02 7.73060158e-21 4.10301984e-03 2.74721605e-09\n",
      " 1.72193278e-01 7.30304806e-04 5.11231247e-32 3.00419129e-40\n",
      " 1.09598549e-02 1.25905619e-03 1.73862868e-01 4.70286236e-18\n",
      " 1.28867215e-09 7.25741086e-05 3.10835162e-19 2.66750315e-02\n",
      " 8.23846982e-03 7.12405420e-02 6.32173268e-06 1.56518706e-07\n",
      " 6.22410493e-25 3.60225850e-01 7.88855481e-26 3.60449685e-02\n",
      " 5.05267937e-11 8.38985311e-03 1.06497533e-01 4.30043724e-34\n",
      " 5.62955552e-30 3.59619379e-21 8.01418954e-29 2.15669347e-13\n",
      " 2.60492270e-04 6.20686369e-01 9.95372475e-01 6.77250195e-08\n",
      " 8.52395837e-07 3.06137386e-25 9.74202651e-06 1.33206485e-16\n",
      " 2.53290907e-05 6.50688667e-01 3.14052084e-06 8.46071579e-32\n",
      " 1.11329550e-32 1.45639311e-30 3.57676056e-35 9.90628509e-23\n",
      " 4.13713804e-02 9.63373744e-19 2.11884664e-05 1.03435104e-18\n",
      " 6.19903189e-30 3.77123990e-04 1.59201712e-17 8.93753511e-01\n",
      " 6.29366564e-01 4.24714949e-30 1.34467696e-03 9.47235129e-09\n",
      " 5.28748531e-01 1.90597825e-24 1.74278992e-10 8.83045426e-21\n",
      " 1.84512971e-02 2.51934011e-05 8.80263609e-12 1.20289377e-43\n",
      " 9.42158322e-19 1.51354696e-01 2.66043072e-43 8.78513488e-08\n",
      " 7.91431901e-01 4.64120635e-11 2.27675075e-07 1.66434590e-01]\n",
      "_mf            =  <function gaussmf at 0x7f8e38caa9d8>\n",
      "_params        =  [53.94397149606327, 28.251005235505193]\n"
     ]
    }
   ],
   "source": [
    "from fs.fuzzysets import FuzzySet\n",
    "\n",
    "fs = FuzzySet(elements, mf=mf, params=params)\n",
    "fs.show_class()"
   ]
  },
  {
   "cell_type": "markdown",
   "metadata": {},
   "source": [
    "# Plotting"
   ]
  },
  {
   "cell_type": "markdown",
   "metadata": {},
   "source": [
    "For a better analysis on our data, we can plot our results. The library has built-in functions for this job. Let's plot our previous results"
   ]
  },
  {
   "cell_type": "code",
   "execution_count": 16,
   "metadata": {},
   "outputs": [
    {
     "ename": "NameError",
     "evalue": "name 'init_notebook_mode' is not defined",
     "output_type": "error",
     "traceback": [
      "\u001b[0;31m---------------------------------------------------------------------------\u001b[0m",
      "\u001b[0;31mNameError\u001b[0m                                 Traceback (most recent call last)",
      "\u001b[0;32m<ipython-input-16-53723f9ee5c6>\u001b[0m in \u001b[0;36m<module>\u001b[0;34m()\u001b[0m\n\u001b[1;32m      2\u001b[0m \u001b[0;32mimport\u001b[0m \u001b[0mplotly\u001b[0m\u001b[0;34m\u001b[0m\u001b[0;34m\u001b[0m\u001b[0m\n\u001b[1;32m      3\u001b[0m \u001b[0;34m\u001b[0m\u001b[0m\n\u001b[0;32m----> 4\u001b[0;31m \u001b[0minit_notebook_mode\u001b[0m\u001b[0;34m(\u001b[0m\u001b[0mconnected\u001b[0m\u001b[0;34m=\u001b[0m\u001b[0;32mTrue\u001b[0m\u001b[0;34m)\u001b[0m\u001b[0;34m\u001b[0m\u001b[0;34m\u001b[0m\u001b[0m\n\u001b[0m\u001b[1;32m      5\u001b[0m \u001b[0;34m\u001b[0m\u001b[0m\n\u001b[1;32m      6\u001b[0m \u001b[0mplot1D\u001b[0m\u001b[0;34m(\u001b[0m\u001b[0mfs\u001b[0m\u001b[0;34m)\u001b[0m\u001b[0;34m\u001b[0m\u001b[0;34m\u001b[0m\u001b[0m\n",
      "\u001b[0;31mNameError\u001b[0m: name 'init_notebook_mode' is not defined"
     ]
    }
   ],
   "source": [
    "from utils.plots import plot1D\n",
    "from plotly.offline import init_notebook_mode\n",
    "\n",
    "init_notebook_mode(connected=True)\n",
    "\n",
    "plot1D(fs)"
   ]
  }
 ],
 "metadata": {
  "kernelspec": {
   "display_name": "Python 3",
   "language": "python",
   "name": "python3"
  },
  "language_info": {
   "codemirror_mode": {
    "name": "ipython",
    "version": 3
   },
   "file_extension": ".py",
   "mimetype": "text/x-python",
   "name": "python",
   "nbconvert_exporter": "python",
   "pygments_lexer": "ipython3",
   "version": "3.6.7"
  }
 },
 "nbformat": 4,
 "nbformat_minor": 2
}
