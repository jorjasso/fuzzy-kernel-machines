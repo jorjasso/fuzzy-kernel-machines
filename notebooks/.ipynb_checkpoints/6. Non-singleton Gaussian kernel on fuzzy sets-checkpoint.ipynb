{
 "cells": [
  {
   "cell_type": "code",
   "execution_count": 1,
   "metadata": {},
   "outputs": [],
   "source": [
    "# Path\n",
    "import sys\n",
    "import os\n",
    "import numpy as np\n",
    "qprc_path = os.path.abspath(os.path.join('..'))\n",
    "if qprc_path not in sys.path:\n",
    "    sys.path.append(qprc_path)"
   ]
  },
  {
   "cell_type": "markdown",
   "metadata": {},
   "source": [
    "# The Cross-Product kernel on Fuzzy Sets\n",
    "The function `cross_product_kernel` from the `kernels` module implements the cross product kernel on fuzzy sets:\n",
    "\n",
    "\\begin{align*}\n",
    "    k_\\times(X,Y)=\\sum_{x\\ \\in\\ supp(X) \\\\ y\\ \\in\\ supp(Y)}k_1\\otimes k_2 ((x,X(x)),(y,Y(y)))\n",
    "\\end{align*}\n",
    "\n",
    "where:\n",
    "\n",
    "* $k_\\times$ is the cross-product kernel\n",
    "* $k_1,k_2$ are two common kernels\n",
    "* $X,Y$ fuzzy sets\n",
    "* $x,y$ elements of their corresponding sets\n",
    "* $X(x),Y(y)$ their membership degrees"
   ]
  },
  {
   "cell_type": "markdown",
   "metadata": {},
   "source": [
    "## Measuring the similarity between fuzzy sets\n"
   ]
  },
  {
   "cell_type": "code",
   "execution_count": 8,
   "metadata": {},
   "outputs": [
    {
     "name": "stdout",
     "output_type": "stream",
     "text": [
      "Fuzzy set X: [(81.85135207095, 0.36787944117144233), (40.73292243404981, 0.36787944117144233)]\n",
      "Fuzzy set Y: [(38.05466737004548, 0.36787944117144233), (78.06978385865361, 0.36787944117144233)]\n",
      "\n",
      " Similarity measure between fuzzy sets X and Y using the cross-product kernel on fuzzy sets with :\n",
      "- sklearn linear_kernels: 1926.502034301975\n",
      "- custom implementation of linear_kernel: 1926.502034301975\n",
      "- sklearn RBF kernel and linear_kernel: 0.16075163781070884\n",
      "- sklearn RBF kernel and linear_kernel: 0.0038542354056144614\n",
      "- sklearn RBF kernel and linear_kernel: 3.591951476482711e-17\n"
     ]
    }
   ],
   "source": [
    "from kernelfuzzy.fuzzyset import FuzzySet\n",
    "from kernelfuzzy.memberships import gaussmf\n",
    "from kernelfuzzy import kernels\n",
    "from sklearn.metrics import pairwise\n",
    "from sklearn.metrics.pairwise import rbf_kernel\n",
    "\n",
    "\n",
    "#defining two fuzzy sets: X and Y\n",
    "#-------------------------------------\n",
    "# a fuzzy set X\n",
    "elements = np.random.uniform(0, 100, 2)\n",
    "X = FuzzySet(elements=elements, mf=gaussmf, params=[np.mean(elements), np.std(elements)])\n",
    "\n",
    "# a fuzzy set Y\n",
    "elements = np.random.uniform(0, 100, 2)\n",
    "Y = FuzzySet(elements= elements, mf=gaussmf, params=[np.mean(elements), np.std(elements)])\n",
    "\n",
    "print(\"Fuzzy set X: {}\".format(X.get_pair()))\n",
    "print(\"Fuzzy set Y: {}\".format(Y.get_pair()))\n",
    "\n",
    "#implementing fuzzy sets similarity with kernels on fuzzy sets\n",
    "#-------------------------------------\n",
    "#cross product kernel with linear kernels\n",
    "print('\\n Similarity measure between fuzzy sets X and Y using the cross-product kernel on fuzzy sets with :')\n",
    "print('- sklearn linear_kernels: {}'.format(kernels.cross_product_kernel(X, Y, pairwise.linear_kernel, '', pairwise.linear_kernel, '')))\n",
    "print('- custom implementation of linear_kernel: {}'.format(kernels.cross_product_kernel(X, Y, kernels.linear_kernel, '', kernels.linear_kernel, '')))\n",
    "\n",
    "#cross product kernel with RBF and linear kernels\n",
    "print('- sklearn RBF kernel and linear_kernel: {}'.format(kernels.cross_product_kernel(X, Y, rbf_kernel, 0.05, kernels.linear_kernel, '')))\n",
    "print('- sklearn RBF kernel and linear_kernel: {}'.format(kernels.cross_product_kernel(X, Y, rbf_kernel, 0.5, kernels.linear_kernel, '')))\n",
    "print('- sklearn RBF kernel and linear_kernel: {}'.format(kernels.cross_product_kernel(X, Y, rbf_kernel, 5.0, kernels.linear_kernel, '')))\n"
   ]
  }
 ],
 "metadata": {
  "kernelspec": {
   "display_name": "Python 3",
   "language": "python",
   "name": "python3"
  },
  "language_info": {
   "codemirror_mode": {
    "name": "ipython",
    "version": 3
   },
   "file_extension": ".py",
   "mimetype": "text/x-python",
   "name": "python",
   "nbconvert_exporter": "python",
   "pygments_lexer": "ipython3",
   "version": "3.7.3"
  }
 },
 "nbformat": 4,
 "nbformat_minor": 2
}
