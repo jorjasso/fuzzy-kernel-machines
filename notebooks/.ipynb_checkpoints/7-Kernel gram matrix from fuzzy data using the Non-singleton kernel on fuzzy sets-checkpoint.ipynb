{
 "cells": [
  {
   "cell_type": "code",
   "execution_count": 1,
   "metadata": {},
   "outputs": [],
   "source": [
    "# Path\n",
    "import sys\n",
    "import os\n",
    "qprc_path = os.path.abspath(os.path.join('..'))\n",
    "if qprc_path not in sys.path:\n",
    "    sys.path.append(qprc_path)"
   ]
  },
  {
   "cell_type": "markdown",
   "metadata": {},
   "source": [
    "# Notebook description\n",
    "In this notebook, we estimate the kernel Gram Matrix from Fuzzy data using the Non-singleton Kernel on Fuzzy sets.\n",
    "\n",
    "The `kernels` module has the `gram_matrix_nonsingleton_gaussian_kernel`in charge of this estimation\n"
   ]
  },
  {
   "cell_type": "markdown",
   "metadata": {},
   "source": [
    "## Kernel Gram Matrix estimation"
   ]
  },
  {
   "cell_type": "code",
   "execution_count": 2,
   "metadata": {},
   "outputs": [],
   "source": [
    "import numpy as np\n",
    "from  kernelfuzzy.fuzzyset import FuzzySet\n",
    "from  kernelfuzzy.memberships import gaussmf\n",
    "from  kernelfuzzy.fuzzification import FuzzyData\n",
    "from kernelfuzzy.kernels import nonsingleton_gaussian_kernel, gram_matrix_nonsingleton_gaussian_kernel\n",
    "import seaborn as sns\n",
    "from typing import Callable, List\n",
    "\n",
    "\n",
    "fuzzy_dataset = FuzzyData.create_toy_fuzzy_dataset(num_rows=15, num_cols=3,parametric=True)\n",
    "\n",
    "K = gram_matrix_nonsingleton_gaussian_kernel(fuzzy_dataset, fuzzy_dataset, gamma=1)\n",
    "ax = sns.heatmap(K)"
   ]
  },
  {
   "cell_type": "markdown",
   "metadata": {},
   "source": [
    "## Kernel Gram Matrix via a cross product kernel on fuzzy sets using a RBF kernel and linear kernel\n",
    "\n",
    "Gram matrices from a fuzzy dataset estimated via the cross-product kernel on the fuzzy sets, with a RBF kernel for the elements and a linear kernel for the membership degrees"
   ]
  },
  {
   "cell_type": "code",
   "execution_count": null,
   "metadata": {},
   "outputs": [],
   "source": [
    "from sklearn.metrics.pairwise import rbf_kernel\n",
    "import matplotlib.pyplot as plt\n",
    "\n",
    "# fuzzy dataset\n",
    "fuzzy_dataset = FuzzyData.create_toy_fuzzy_dataset(num_rows=50, num_cols=2)\n",
    "\n",
    "kernel_bandwidth=[0.05, 0.5, 5, 50]\n",
    "\n",
    "# plotting\n",
    "fig, axn = plt.subplots(2, 2, figsize=(10,10))\n",
    "for i, ax in enumerate(axn.flat):\n",
    "    K = gram_matrix_cross_product_kernel(fuzzy_dataset, fuzzy_dataset, rbf_kernel, kernel_bandwidth[i], linear_kernel, '')\n",
    "    sns.heatmap(K, ax=ax)\n",
    "\n",
    "fig.tight_layout()"
   ]
  },
  {
   "cell_type": "markdown",
   "metadata": {
    "collapsed": true
   },
   "source": [
    "## Kernel Gram Matrix: RBF kernels\n",
    "\n",
    "Gram Matrix estimated using the cross-product kernel on fuzzy sets, with a RBF kernel for the elements and a RBF kernel for the membership degrees"
   ]
  },
  {
   "cell_type": "code",
   "execution_count": null,
   "metadata": {},
   "outputs": [],
   "source": [
    "fig, axn = plt.subplots(2, 2,figsize=(10,10))\n",
    "for i, ax in enumerate(axn.flat):\n",
    "    K=gram_matrix_cross_product_kernel(fuzzy_dataset,fuzzy_dataset,rbf_kernel,kernel_bandwidth[i],rbf_kernel,kernel_bandwidth[i])\n",
    "    sns.heatmap(K, ax=ax)"
   ]
  },
  {
   "cell_type": "code",
   "execution_count": null,
   "metadata": {},
   "outputs": [],
   "source": []
  }
 ],
 "metadata": {
  "kernelspec": {
   "display_name": "Python 3",
   "language": "python",
   "name": "python3"
  },
  "language_info": {
   "codemirror_mode": {
    "name": "ipython",
    "version": 3
   },
   "file_extension": ".py",
   "mimetype": "text/x-python",
   "name": "python",
   "nbconvert_exporter": "python",
   "pygments_lexer": "ipython3",
   "version": "3.7.3"
  }
 },
 "nbformat": 4,
 "nbformat_minor": 1
}
