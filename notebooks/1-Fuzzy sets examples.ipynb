{
 "cells": [
  {
   "cell_type": "code",
   "execution_count": 8,
   "metadata": {},
   "outputs": [],
   "source": [
    "# Path\n",
    "import sys\n",
    "import os\n",
    "qprc_path = os.path.abspath(os.path.join('..'))\n",
    "if qprc_path not in sys.path:\n",
    "    sys.path.append(qprc_path)"
   ]
  },
  {
   "cell_type": "markdown",
   "metadata": {},
   "source": [
    "# Using the FuzzySet Class for defining fuzzy sets objects"
   ]
  },
  {
   "cell_type": "code",
   "execution_count": 9,
   "metadata": {},
   "outputs": [],
   "source": [
    "import numpy as np\n",
    "from kernelfuzzy.fuzzyset import FuzzySet\n",
    "from kernelfuzzy.memberships import gaussmf"
   ]
  },
  {
   "cell_type": "markdown",
   "metadata": {},
   "source": [
    "## Example 1\n",
    "\n",
    "Using elements and membership degrees"
   ]
  },
  {
   "cell_type": "code",
   "execution_count": 10,
   "metadata": {},
   "outputs": [
    {
     "name": "stdout",
     "output_type": "stream",
     "text": [
      "\n",
      "\n",
      "Fuzzy set: [('apple', 0.1), ('banana', 0.5), ('cherry', 0.1)]\n",
      "\n",
      "\n",
      "Properties:\n",
      "(_elements)      \n",
      " ['apple', 'banana', 'cherry'] \n",
      "\n",
      "(_elements_type) \n",
      " <class 'str'> \n",
      "\n",
      "(_membership_function)            \n",
      " None \n",
      "\n",
      "(_membership_degrees)            \n",
      " [0.1, 0.5, 0.1] \n",
      "\n",
      "(_membership_function_params)        \n",
      " None \n",
      "\n"
     ]
    }
   ],
   "source": [
    "elements = [\"apple\", \"banana\", \"cherry\"]\n",
    "membership_degrees = [.1, .5, .1]\n",
    "\n",
    "X = FuzzySet(elements, membership_degrees=membership_degrees)\n",
    "X.show()"
   ]
  },
  {
   "cell_type": "code",
   "execution_count": 11,
   "metadata": {},
   "outputs": [
    {
     "name": "stdout",
     "output_type": "stream",
     "text": [
      "\n",
      "\n",
      "Fuzzy set: [(array([2, 3]), 0.1), (array([4, 5]), 0.5), (array([3, 7]), 0.1)]\n",
      "\n",
      "\n",
      "Properties:\n",
      "(_elements)      \n",
      " [array([2, 3]), array([4, 5]), array([3, 7])] \n",
      "\n",
      "(_elements_type) \n",
      " <class 'numpy.ndarray'> \n",
      "\n",
      "(_membership_function)            \n",
      " None \n",
      "\n",
      "(_membership_degrees)            \n",
      " [0.1, 0.5, 0.1] \n",
      "\n",
      "(_membership_function_params)        \n",
      " None \n",
      "\n"
     ]
    }
   ],
   "source": [
    "elements = [np.array([2,3]), np.array([4,5]), np.array([3,7])]\n",
    "membership_degrees = [.1, .5, .1]\n",
    "\n",
    "X = FuzzySet(elements, membership_degrees=membership_degrees)\n",
    "X.show()"
   ]
  },
  {
   "cell_type": "markdown",
   "metadata": {},
   "source": [
    "## Example 2\n",
    "\n",
    "This example is the same as the example 2, except that now we are using the built-in lists from Python."
   ]
  },
  {
   "cell_type": "code",
   "execution_count": 12,
   "metadata": {},
   "outputs": [
    {
     "name": "stdout",
     "output_type": "stream",
     "text": [
      "\n",
      "\n",
      "Fuzzy set: [([2, 3], 0.1), ([4, 5], 0.5), ([3, 7], 0.1)]\n",
      "\n",
      "\n",
      "Properties:\n",
      "(_elements)      \n",
      " [[2, 3], [4, 5], [3, 7]] \n",
      "\n",
      "(_elements_type) \n",
      " <class 'list'> \n",
      "\n",
      "(_membership_function)            \n",
      " None \n",
      "\n",
      "(_membership_degrees)            \n",
      " [0.1, 0.5, 0.1] \n",
      "\n",
      "(_membership_function_params)        \n",
      " None \n",
      "\n"
     ]
    }
   ],
   "source": [
    "elements = [[2,3], [4,5], [3,7]]\n",
    "membership_degrees = [.1, .5, .1]\n",
    "\n",
    "X = FuzzySet(elements, membership_degrees=membership_degrees)\n",
    "X.show()"
   ]
  },
  {
   "cell_type": "markdown",
   "metadata": {},
   "source": [
    "## Example 3\n",
    "\n",
    "Using elements and membership function\n",
    "\\begin{align}\n",
    "    f(x)=e^{(-(x-\\mu)^TA(x-\\mu))}\n",
    "\\end{align}"
   ]
  },
  {
   "cell_type": "code",
   "execution_count": 17,
   "metadata": {},
   "outputs": [
    {
     "name": "stdout",
     "output_type": "stream",
     "text": [
      "\n",
      "\n",
      "Fuzzy set: [(89.3355865260293, 0.17349638429409134), (49.371253042371734, 0.9484252251897107), (27.165121099497924, 0.3025680243622504)]\n",
      "\n",
      "\n",
      "Properties:\n",
      "(_elements)      \n",
      " [89.33558653 49.37125304 27.1651211 ] \n",
      "\n",
      "(_elements_type) \n",
      " <class 'numpy.float64'> \n",
      "\n",
      "(_membership_function)            \n",
      " <function gaussmf at 0x113ac41e0> \n",
      "\n",
      "(_membership_degrees)            \n",
      " [0.17349638 0.94842523 0.30256802] \n",
      "\n",
      "(_membership_function_params)        \n",
      " [55.29065355596632, 25.72380440588239] \n",
      "\n"
     ]
    }
   ],
   "source": [
    "elements = np.random.uniform(0, 100, 3)\n",
    "mf = gaussmf\n",
    "membership_function_params = [np.mean(elements), np.std(elements)]\n",
    "\n",
    "X = FuzzySet(elements, membership_function=gaussmf, membership_function_params=membership_function_params)\n",
    "X.show()"
   ]
  },
  {
   "cell_type": "markdown",
   "metadata": {},
   "source": [
    "The _FuzzySet_ class supports the membership calculation of multi-dimensional sets. In this example, a 2-dimensional set is used."
   ]
  },
  {
   "cell_type": "code",
   "execution_count": 19,
   "metadata": {},
   "outputs": [
    {
     "name": "stdout",
     "output_type": "stream",
     "text": [
      "\n",
      "\n",
      "Fuzzy set: [(array([31.65452579, 92.4851829 ]), 0.436079953568442), (array([30.15846297, 93.11537984]), 0.018270552615802533), (array([30.54403743, 91.83153069]), 0.40927975856778726), (array([33.42380529, 92.25514419]), 0.013638311696667287), (array([31.89779193, 90.53292848]), 0.2668439566670749), (array([32.77920654, 89.71558188]), 0.005113391118694331), (array([31.48869658, 92.58496157]), 0.3752417850526954), (array([32.47231771, 91.60541542]), 0.3582777723813054), (array([32.1396592 , 92.81650204]), 0.14168098038576987), (array([30.84336469, 91.10967396]), 0.5405440246724502)]\n",
      "\n",
      "\n",
      "Properties:\n",
      "(_elements)      \n",
      " [[31.65452579 92.4851829 ]\n",
      " [30.15846297 93.11537984]\n",
      " [30.54403743 91.83153069]\n",
      " [33.42380529 92.25514419]\n",
      " [31.89779193 90.53292848]\n",
      " [32.77920654 89.71558188]\n",
      " [31.48869658 92.58496157]\n",
      " [32.47231771 91.60541542]\n",
      " [32.1396592  92.81650204]\n",
      " [30.84336469 91.10967396]] \n",
      "\n",
      "(_elements_type) \n",
      " <class 'numpy.ndarray'> \n",
      "\n",
      "(_membership_function)            \n",
      " <function gaussmf at 0x113ac41e0> \n",
      "\n",
      "(_membership_degrees)            \n",
      " [0.43607995 0.01827055 0.40927976 0.01363831 0.26684396 0.00511339\n",
      " 0.37524179 0.35827777 0.14168098 0.54054402] \n",
      "\n",
      "(_membership_function_params)        \n",
      " [array([31.45923059, 91.59535738]), array([[1, 0],\n",
      "       [0, 1]])] \n",
      "\n"
     ]
    }
   ],
   "source": [
    "covar = np.array([[1, 0], [0, 1]])\n",
    "mean = np.random.uniform(0, 100, 2)\n",
    "elements = np.random.multivariate_normal(mean, covar, 10)\n",
    "\n",
    "X = FuzzySet(elements, membership_function=gaussmf, membership_function_params=[mean, covar])\n",
    "X.show()\n"
   ]
  },
  {
   "cell_type": "code",
   "execution_count": null,
   "metadata": {},
   "outputs": [],
   "source": []
  }
 ],
 "metadata": {
  "kernelspec": {
   "display_name": "Python 3",
   "language": "python",
   "name": "python3"
  },
  "language_info": {
   "codemirror_mode": {
    "name": "ipython",
    "version": 3
   },
   "file_extension": ".py",
   "mimetype": "text/x-python",
   "name": "python",
   "nbconvert_exporter": "python",
   "pygments_lexer": "ipython3",
   "version": "3.7.3"
  }
 },
 "nbformat": 4,
 "nbformat_minor": 2
}
