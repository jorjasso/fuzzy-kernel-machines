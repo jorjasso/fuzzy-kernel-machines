{
 "cells": [
  {
   "cell_type": "code",
   "execution_count": 6,
   "metadata": {},
   "outputs": [],
   "source": [
    "# Path\n",
    "import sys\n",
    "import os\n",
    "qprc_path = os.path.abspath(os.path.join('..'))\n",
    "if qprc_path not in sys.path:\n",
    "    sys.path.append(qprc_path)\n",
    "import numpy as np\n",
    "from kernelfuzzy.fuzzyset import FuzzySet\n",
    "from kernelfuzzy.memberships import gaussmf"
   ]
  },
  {
   "cell_type": "markdown",
   "metadata": {},
   "source": [
    "# Creating fuzzy sets objects via the FuzzySet Class"
   ]
  },
  {
   "cell_type": "markdown",
   "metadata": {},
   "source": [
    "## Example 1\n",
    "\n",
    "Using elements and membership degrees"
   ]
  },
  {
   "cell_type": "code",
   "execution_count": 7,
   "metadata": {},
   "outputs": [
    {
     "name": "stdout",
     "output_type": "stream",
     "text": [
      "\n",
      "\n",
      "Fuzzy set: [('apple', 0.1), ('banana', 0.5), ('cherry', 0.1)]\n",
      "\n",
      "\n",
      "Properties:\n",
      "(_elements)      \n",
      " ['apple', 'banana', 'cherry'] \n",
      "\n",
      "(_elements_type) \n",
      " <class 'str'> \n",
      "\n",
      "(_membership_function)            \n",
      " None \n",
      "\n",
      "(_membership_degrees)            \n",
      " [0.1, 0.5, 0.1] \n",
      "\n",
      "(_membership_function_params)        \n",
      " None \n",
      "\n"
     ]
    }
   ],
   "source": [
    "elements = [\"apple\", \"banana\", \"cherry\"]\n",
    "membership_degrees = [.1, .5, .1]\n",
    "\n",
    "X = FuzzySet(elements, membership_degrees=membership_degrees)\n",
    "X.show()"
   ]
  },
  {
   "cell_type": "code",
   "execution_count": 8,
   "metadata": {},
   "outputs": [
    {
     "name": "stdout",
     "output_type": "stream",
     "text": [
      "\n",
      "\n",
      "Fuzzy set: [(array([2, 3]), 0.1), (array([4, 5]), 0.5), (array([3, 7]), 0.1)]\n",
      "\n",
      "\n",
      "Properties:\n",
      "(_elements)      \n",
      " [array([2, 3]), array([4, 5]), array([3, 7])] \n",
      "\n",
      "(_elements_type) \n",
      " <class 'numpy.ndarray'> \n",
      "\n",
      "(_membership_function)            \n",
      " None \n",
      "\n",
      "(_membership_degrees)            \n",
      " [0.1, 0.5, 0.1] \n",
      "\n",
      "(_membership_function_params)        \n",
      " None \n",
      "\n"
     ]
    }
   ],
   "source": [
    "elements = [np.array([2,3]), np.array([4,5]), np.array([3,7])]\n",
    "membership_degrees = [.1, .5, .1]\n",
    "\n",
    "X = FuzzySet(elements, membership_degrees=membership_degrees)\n",
    "X.show()"
   ]
  },
  {
   "cell_type": "code",
   "execution_count": 9,
   "metadata": {},
   "outputs": [
    {
     "name": "stdout",
     "output_type": "stream",
     "text": [
      "\n",
      "\n",
      "Fuzzy set: [([2, 3], 0.1), ([4, 5], 0.5), ([3, 7], 0.1)]\n",
      "\n",
      "\n",
      "Properties:\n",
      "(_elements)      \n",
      " [[2, 3], [4, 5], [3, 7]] \n",
      "\n",
      "(_elements_type) \n",
      " <class 'list'> \n",
      "\n",
      "(_membership_function)            \n",
      " None \n",
      "\n",
      "(_membership_degrees)            \n",
      " [0.1, 0.5, 0.1] \n",
      "\n",
      "(_membership_function_params)        \n",
      " None \n",
      "\n"
     ]
    }
   ],
   "source": [
    "elements = [[2,3], [4,5], [3,7]]\n",
    "membership_degrees = [.1, .5, .1]\n",
    "\n",
    "X = FuzzySet(elements, membership_degrees=membership_degrees)\n",
    "X.show()"
   ]
  },
  {
   "cell_type": "markdown",
   "metadata": {},
   "source": [
    "## Example 3\n",
    "\n",
    "Using elements and Gaussian membership function"
   ]
  },
  {
   "cell_type": "code",
   "execution_count": 11,
   "metadata": {},
   "outputs": [
    {
     "name": "stdout",
     "output_type": "stream",
     "text": [
      "\n",
      "\n",
      "Fuzzy set: [(21.215095457953648, 0.3002527260644268), (37.40730724310275, 0.950787728575753), (66.1104339329819, 0.1743998179709138)]\n",
      "\n",
      "\n",
      "Properties:\n",
      "(_elements)      \n",
      " [21.21509546 37.40730724 66.11043393] \n",
      "\n",
      "(_elements_type) \n",
      " <class 'numpy.float64'> \n",
      "\n",
      "(_membership_function)            \n",
      " <function gaussmf at 0x109660bf8> \n",
      "\n",
      "(_membership_degrees)            \n",
      " [0.30025273 0.95078773 0.17439982] \n",
      "\n",
      "(_membership_function_params)        \n",
      " [41.5776122113461, 18.564148904864172] \n",
      "\n"
     ]
    }
   ],
   "source": [
    "elements = np.random.uniform(0, 100, 3)\n",
    "mf = gaussmf\n",
    "membership_function_params = [np.mean(elements), np.std(elements)]\n",
    "\n",
    "X = FuzzySet(elements, membership_function=gaussmf, membership_function_params=membership_function_params)\n",
    "X.show()"
   ]
  },
  {
   "cell_type": "markdown",
   "metadata": {},
   "source": [
    "The _FuzzySet_ class supports the membership calculation of multi-dimensional sets. In this example, a 2-dimensional set is used."
   ]
  },
  {
   "cell_type": "code",
   "execution_count": 12,
   "metadata": {},
   "outputs": [
    {
     "name": "stdout",
     "output_type": "stream",
     "text": [
      "\n",
      "\n",
      "Fuzzy set: [(array([36.17732842, 75.59881084]), 0.043817933317050896), (array([36.42531708, 76.15363013]), 0.08795403940907069), (array([34.86394322, 79.92425214]), 0.0002094682662520307), (array([35.49367622, 77.83874249]), 0.45381612735024357), (array([33.6230402 , 76.51851635]), 0.07898633102300447), (array([36.05591698, 77.84491774]), 0.21837087515284015), (array([32.26926615, 77.98130997]), 0.00011006304492094277), (array([35.15225643, 76.00542267]), 0.35259017344879295), (array([34.15522705, 79.44053465]), 0.0011302993161332836), (array([35.64609631, 77.66582802]), 0.5106413244188857)]\n",
      "\n",
      "\n",
      "Properties:\n",
      "(_elements)      \n",
      " [[36.17732842 75.59881084]\n",
      " [36.42531708 76.15363013]\n",
      " [34.86394322 79.92425214]\n",
      " [35.49367622 77.83874249]\n",
      " [33.6230402  76.51851635]\n",
      " [36.05591698 77.84491774]\n",
      " [32.26926615 77.98130997]\n",
      " [35.15225643 76.00542267]\n",
      " [34.15522705 79.44053465]\n",
      " [35.64609631 77.66582802]] \n",
      "\n",
      "(_elements_type) \n",
      " <class 'numpy.ndarray'> \n",
      "\n",
      "(_membership_function)            \n",
      " <function gaussmf at 0x109660bf8> \n",
      "\n",
      "(_membership_degrees)            \n",
      " [4.38179333e-02 8.79540394e-02 2.09468266e-04 4.53816127e-01\n",
      " 7.89863310e-02 2.18370875e-01 1.10063045e-04 3.52590173e-01\n",
      " 1.13029932e-03 5.10641324e-01] \n",
      "\n",
      "(_membership_function_params)        \n",
      " [array([35.13323479, 77.02624932]), array([[1, 0],\n",
      "       [0, 1]])] \n",
      "\n"
     ]
    }
   ],
   "source": [
    "covar = np.array([[1, 0], [0, 1]])\n",
    "mean = np.random.uniform(0, 100, 2)\n",
    "elements = np.random.multivariate_normal(mean, covar, 10)\n",
    "\n",
    "X = FuzzySet(elements, membership_function=gaussmf, membership_function_params=[mean, covar])\n",
    "X.show()\n"
   ]
  },
  {
   "cell_type": "markdown",
   "metadata": {},
   "source": [
    "# Using Numba TODO"
   ]
  },
  {
   "cell_type": "code",
   "execution_count": 16,
   "metadata": {},
   "outputs": [],
   "source": [
    "from numba import types\n",
    "\n",
    "class FuzzySetType(types.Type):\n",
    "    def __init__(self):\n",
    "        super(FuzzySetType, self).__init__(name='FuzzySet')\n",
    "\n",
    "fuzzySet_type = FuzzySetType()\n",
    "\n",
    "#########################\n",
    "\n",
    "from numba.extending import typeof_impl\n",
    "\n",
    "@typeof_impl.register(FuzzySet)\n",
    "def typeof_index(val, c):\n",
    "    return fuzzySet_type\n",
    "\n",
    "#######################\n",
    "\n",
    "# see this https://numba.pydata.org/numba-doc/latest/extending/interval-example.html"
   ]
  },
  {
   "cell_type": "code",
   "execution_count": null,
   "metadata": {},
   "outputs": [],
   "source": []
  }
 ],
 "metadata": {
  "kernelspec": {
   "display_name": "Python 3",
   "language": "python",
   "name": "python3"
  },
  "language_info": {
   "codemirror_mode": {
    "name": "ipython",
    "version": 3
   },
   "file_extension": ".py",
   "mimetype": "text/x-python",
   "name": "python",
   "nbconvert_exporter": "python",
   "pygments_lexer": "ipython3",
   "version": "3.7.3"
  }
 },
 "nbformat": 4,
 "nbformat_minor": 2
}
